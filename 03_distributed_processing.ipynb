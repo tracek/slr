{
 "cells": [
  {
   "cell_type": "code",
   "execution_count": 1,
   "metadata": {},
   "outputs": [],
   "source": [
    "import os\n",
    "import s3fs\n",
    "import rasterio as rio\n",
    "import dask_image\n",
    "import numpy as np\n",
    "import dask_image.imread as imread\n",
    "import dask\n",
    "import dask.array as da\n",
    "from dask.distributed import Client, progress"
   ]
  },
  {
   "cell_type": "code",
   "execution_count": 2,
   "metadata": {},
   "outputs": [],
   "source": [
    "threshold = 2\n",
    "image_loc = 'slr-interactive/data-test'"
   ]
  },
  {
   "cell_type": "code",
   "execution_count": 8,
   "metadata": {},
   "outputs": [
    {
     "data": {
      "text/html": [
       "<table style=\"border: 2px solid white;\">\n",
       "<tr>\n",
       "<td style=\"vertical-align: top; border: 0px solid white\">\n",
       "<h3 style=\"text-align: left;\">Client</h3>\n",
       "<ul style=\"text-align: left; list-style: none; margin: 0; padding: 0;\">\n",
       "  <li><b>Scheduler: </b>tcp://127.0.0.1:39825</li>\n",
       "  <li><b>Dashboard: </b><a href='http://127.0.0.1:8787/status' target='_blank'>http://127.0.0.1:8787/status</a></li>\n",
       "</ul>\n",
       "</td>\n",
       "<td style=\"vertical-align: top; border: 0px solid white\">\n",
       "<h3 style=\"text-align: left;\">Cluster</h3>\n",
       "<ul style=\"text-align: left; list-style:none; margin: 0; padding: 0;\">\n",
       "  <li><b>Workers: </b>16</li>\n",
       "  <li><b>Cores: </b>16</li>\n",
       "  <li><b>Memory: </b>33.72 GB</li>\n",
       "</ul>\n",
       "</td>\n",
       "</tr>\n",
       "</table>"
      ],
      "text/plain": [
       "<Client: 'tcp://127.0.0.1:39825' processes=16 threads=16, memory=33.72 GB>"
      ]
     },
     "execution_count": 8,
     "metadata": {},
     "output_type": "execute_result"
    }
   ],
   "source": [
    "# # Create a cluster\n",
    "# cluster = YarnCluster()\n",
    "\n",
    "# # Connect to the cluster\n",
    "# client = Client(cluster)\n",
    "\n",
    "client = Client(threads_per_worker=1, n_workers=16)\n",
    "client"
   ]
  },
  {
   "cell_type": "code",
   "execution_count": 12,
   "metadata": {},
   "outputs": [],
   "source": [
    "def process_geotiff(source, threshold):\n",
    "    with rio.open(source) as src:\n",
    "        data = src.read() < threshold\n",
    "        if data.sum() == 0:\n",
    "            return\n",
    "        profile = src.profile\n",
    "        profile['dtype'] = 'uint8'\n",
    "        profile.pop('nodata')\n",
    "    \n",
    "    destination_path = os.path.basename(source)\n",
    "    with fs.open(os.path.join(image_loc, 'out', destination_path), 'wb') as f:\n",
    "        with rio.open(f, 'w', nbits=1, **profile) as dst:\n",
    "            dst.write(data.astype('uint8'))"
   ]
  },
  {
   "cell_type": "code",
   "execution_count": 4,
   "metadata": {},
   "outputs": [
    {
     "data": {
      "text/plain": [
       "['s3://slr-interactive/data-test/n36.5w75.8.tif',\n",
       " 's3://slr-interactive/data-test/n36.5w75.9.tif',\n",
       " 's3://slr-interactive/data-test/n36.5w76.0.tif',\n",
       " 's3://slr-interactive/data-test/n36.5w76.1.tif',\n",
       " 's3://slr-interactive/data-test/n36.5w76.2.tif',\n",
       " 's3://slr-interactive/data-test/n36.5w76.3.tif',\n",
       " 's3://slr-interactive/data-test/n36.5w76.4.tif',\n",
       " 's3://slr-interactive/data-test/n36.5w76.5.tif',\n",
       " 's3://slr-interactive/data-test/n36.5w76.6.tif',\n",
       " 's3://slr-interactive/data-test/n36.5w76.7.tif',\n",
       " 's3://slr-interactive/data-test/n36.5w76.8.tif',\n",
       " 's3://slr-interactive/data-test/n36.5w76.9.tif',\n",
       " 's3://slr-interactive/data-test/n36.5w77.0.tif',\n",
       " 's3://slr-interactive/data-test/n36.5w77.1.tif',\n",
       " 's3://slr-interactive/data-test/n36.5w77.2.tif',\n",
       " 's3://slr-interactive/data-test/n36.5w77.3.tif',\n",
       " 's3://slr-interactive/data-test/n36.5w77.4.tif',\n",
       " 's3://slr-interactive/data-test/n36.5w77.5.tif',\n",
       " 's3://slr-interactive/data-test/n36.5w77.6.tif',\n",
       " 's3://slr-interactive/data-test/n36.5w77.7.tif',\n",
       " 's3://slr-interactive/data-test/n36.5w77.8.tif',\n",
       " 's3://slr-interactive/data-test/n36.5w77.9.tif',\n",
       " 's3://slr-interactive/data-test/n36.5w78.0.tif',\n",
       " 's3://slr-interactive/data-test/n36.5w78.1.tif',\n",
       " 's3://slr-interactive/data-test/n36.5w78.2.tif',\n",
       " 's3://slr-interactive/data-test/n36.5w78.3.tif',\n",
       " 's3://slr-interactive/data-test/n36.5w78.4.tif',\n",
       " 's3://slr-interactive/data-test/n36.5w78.5.tif',\n",
       " 's3://slr-interactive/data-test/n36.5w78.6.tif',\n",
       " 's3://slr-interactive/data-test/n36.5w78.7.tif',\n",
       " 's3://slr-interactive/data-test/n36.5w78.8.tif',\n",
       " 's3://slr-interactive/data-test/n36.5w78.9.tif',\n",
       " 's3://slr-interactive/data-test/n36.5w79.0.tif',\n",
       " 's3://slr-interactive/data-test/n36.5w79.1.tif']"
      ]
     },
     "execution_count": 4,
     "metadata": {},
     "output_type": "execute_result"
    }
   ],
   "source": [
    "fs = s3fs.S3FileSystem()\n",
    "paths = fs.glob(os.path.join(image_loc, '*.tif'))\n",
    "paths = ['s3://' + path for path in paths]\n",
    "paths"
   ]
  },
  {
   "cell_type": "code",
   "execution_count": 9,
   "metadata": {},
   "outputs": [],
   "source": [
    "lazy_arrays = [dask.delayed(process_geotiff)(fn, threshold) for fn in paths]"
   ]
  },
  {
   "cell_type": "code",
   "execution_count": 10,
   "metadata": {},
   "outputs": [],
   "source": [
    "_ = process_geotiff('s3://slr-interactive/data-test/n36.5w79.1.tif', 2)"
   ]
  },
  {
   "cell_type": "code",
   "execution_count": 11,
   "metadata": {},
   "outputs": [],
   "source": [
    "_ = client.compute(collections=lazy_arrays)"
   ]
  },
  {
   "cell_type": "code",
   "execution_count": null,
   "metadata": {},
   "outputs": [],
   "source": []
  }
 ],
 "metadata": {
  "kernelspec": {
   "display_name": "Python 3",
   "language": "python",
   "name": "python3"
  },
  "language_info": {
   "codemirror_mode": {
    "name": "ipython",
    "version": 3
   },
   "file_extension": ".py",
   "mimetype": "text/x-python",
   "name": "python",
   "nbconvert_exporter": "python",
   "pygments_lexer": "ipython3",
   "version": "3.8.3"
  }
 },
 "nbformat": 4,
 "nbformat_minor": 4
}
